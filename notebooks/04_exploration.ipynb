{
 "cells": [
  {
   "attachments": {},
   "cell_type": "markdown",
   "metadata": {},
   "source": [
    "Explore and Analysis of Model Predictions"
   ]
  },
  {
   "cell_type": "code",
   "execution_count": null,
   "metadata": {},
   "outputs": [],
   "source": [
    "import pandas as pd\n",
    "import warnings\n",
    "warnings.filterwarnings('ignore')\n",
    "\n",
    "pd.options.display.max_rows = 999\n",
    "pd.options.display.max_columns = 999\n",
    "\n",
    "from expected_disposal_model.config import prediction_output_path\n",
    "\n",
    "%load_ext autoreload\n",
    "%autoreload 2"
   ]
  },
  {
   "cell_type": "code",
   "execution_count": null,
   "metadata": {},
   "outputs": [],
   "source": [
    "data = pd.read_csv(\"/Users/ciaran/Documents/Projects/AFL/git-repositories/expected-disposal-model/data/predictions/predictions_disposal_v1.csv\")\n",
    "data['season'] = data['match_id'].apply(lambda x: x[:4])\n",
    "data['xDisposal'] = round(data['xgb_probas'].copy(), 2)\n",
    "data['xDisposal_Calibrated'] = round(data['xgb_probas_cal'].copy(), 2)\n",
    "\n",
    "data['xDisposal_diff'] = data['Disposal'] - data['xDisposal']\n",
    "data['xDisposal_Calibrated_diff'] = data['Disposal'] - data['xDisposal_Calibrated']\n",
    "\n",
    "data.head()"
   ]
  },
  {
   "attachments": {},
   "cell_type": "markdown",
   "metadata": {},
   "source": [
    "Exploration"
   ]
  },
  {
   "cell_type": "code",
   "execution_count": null,
   "metadata": {},
   "outputs": [],
   "source": [
    "disposal_list = ['Disposal', 'xDisposal', 'xDisposal_Calibrated', 'xDisposal_diff', 'xDisposal_Calibrated_diff']"
   ]
  },
  {
   "cell_type": "code",
   "execution_count": null,
   "metadata": {},
   "outputs": [],
   "source": [
    "data[disposal_list].sum()"
   ]
  },
  {
   "cell_type": "code",
   "execution_count": null,
   "metadata": {},
   "outputs": [],
   "source": [
    "disposal_list = ['Disposal', 'xDisposal', 'xDisposal_diff']"
   ]
  },
  {
   "cell_type": "code",
   "execution_count": null,
   "metadata": {},
   "outputs": [],
   "source": [
    "data.groupby('action_type')[disposal_list].mean()"
   ]
  },
  {
   "cell_type": "code",
   "execution_count": null,
   "metadata": {},
   "outputs": [],
   "source": [
    "data.groupby(['action_type', 'season'])[disposal_list].mean()"
   ]
  },
  {
   "cell_type": "code",
   "execution_count": null,
   "metadata": {},
   "outputs": [],
   "source": [
    "data.groupby(['action_type', 'team'])[disposal_list].mean().sort_values(by = 'xDisposal', ascending = False)"
   ]
  },
  {
   "cell_type": "code",
   "execution_count": null,
   "metadata": {},
   "outputs": [],
   "source": [
    "data.groupby(['team', 'season'])[disposal_list].sum().sort_values(by = 'xDisposal', ascending = False)"
   ]
  },
  {
   "cell_type": "code",
   "execution_count": null,
   "metadata": {},
   "outputs": [],
   "source": [
    "data.groupby(['team', 'match_id'])[disposal_list].sum().sort_values(by = 'xDisposal', ascending = False)"
   ]
  },
  {
   "cell_type": "code",
   "execution_count": null,
   "metadata": {},
   "outputs": [],
   "source": [
    "data.groupby(['player', 'season'])[disposal_list].sum().sort_values(by = 'xDisposal', ascending = False).head(20)"
   ]
  },
  {
   "cell_type": "code",
   "execution_count": null,
   "metadata": {},
   "outputs": [],
   "source": [
    "data.groupby(['player', 'match_id'])[disposal_list].sum().sort_values(by = 'xDisposal_diff', ascending = True).head(20)"
   ]
  },
  {
   "cell_type": "code",
   "execution_count": null,
   "metadata": {},
   "outputs": [],
   "source": [
    "data.groupby(['action_type'])[disposal_list].sum()"
   ]
  },
  {
   "cell_type": "code",
   "execution_count": null,
   "metadata": {},
   "outputs": [],
   "source": [
    "data.groupby(['action_type'])[disposal_list].mean()"
   ]
  },
  {
   "cell_type": "code",
   "execution_count": null,
   "metadata": {},
   "outputs": [],
   "source": [
    "data.groupby(['action_type'])[disposal_list].count()"
   ]
  },
  {
   "cell_type": "code",
   "execution_count": null,
   "metadata": {},
   "outputs": [],
   "source": [
    "data.groupby(['team', 'season', 'action_type'])[disposal_list].mean().sort_values(by='xDisposal', ascending = False)"
   ]
  },
  {
   "cell_type": "code",
   "execution_count": null,
   "metadata": {},
   "outputs": [],
   "source": [
    "data.groupby(['player', 'season', 'action_type'])[disposal_list].agg(\n",
    "    Disposal_sum = (\"Disposal\", \"sum\"),\n",
    "    xDisposal_sum = (\"xDisposal\", \"sum\"),\n",
    "    Disposal_mean = (\"Disposal\", \"mean\"),\n",
    "    xDisposal_mean = (\"xDisposal\", \"mean\")\n",
    ")"
   ]
  },
  {
   "cell_type": "code",
   "execution_count": null,
   "metadata": {},
   "outputs": [],
   "source": []
  }
 ],
 "metadata": {
  "kernelspec": {
   "display_name": "xi50-env",
   "language": "python",
   "name": "python3"
  },
  "language_info": {
   "codemirror_mode": {
    "name": "ipython",
    "version": 3
   },
   "file_extension": ".py",
   "mimetype": "text/x-python",
   "name": "python",
   "nbconvert_exporter": "python",
   "pygments_lexer": "ipython3",
   "version": "3.11.5"
  },
  "orig_nbformat": 4
 },
 "nbformat": 4,
 "nbformat_minor": 2
}
