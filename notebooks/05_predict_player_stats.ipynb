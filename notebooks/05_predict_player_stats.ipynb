{
 "cells": [
  {
   "attachments": {},
   "cell_type": "markdown",
   "metadata": {},
   "source": [
    "Aggregating Expected Disposals to Player Stats per Game"
   ]
  },
  {
   "cell_type": "code",
   "execution_count": null,
   "metadata": {},
   "outputs": [],
   "source": [
    "import pandas as pd\n",
    "\n",
    "pd.options.display.max_rows = 100\n",
    "pd.options.display.max_columns = 999"
   ]
  },
  {
   "cell_type": "code",
   "execution_count": null,
   "metadata": {},
   "outputs": [],
   "source": [
    "scored_chains = \"/Users/ciaran/Documents/Projects/AFL/git-repositories/expected-disposal-model/data/predictions/disposal_scored_chains.csv\"\n",
    "player_stats_file_path = \"/Users/ciaran/Documents/Projects/AFL/data/player_stats.csv\""
   ]
  },
  {
   "cell_type": "code",
   "execution_count": null,
   "metadata": {},
   "outputs": [],
   "source": [
    "chains = pd.read_csv(scored_chains)\n",
    "player_stats = pd.read_csv(player_stats_file_path)\n",
    "chains.tail(1)"
   ]
  },
  {
   "cell_type": "code",
   "execution_count": null,
   "metadata": {},
   "outputs": [],
   "source": [
    "def get_player_totals_by_match(chains):\n",
    "    return chains.groupby(['Match_ID', 'Player', 'Team'])[['Disposal_Label', 'xDisposal']].sum().reset_index().sort_values(by=['Match_ID', \"Player\", \"Team\"])\n",
    "\n",
    "player_value = get_player_totals_by_match(chains)\n",
    "player_stats = player_stats.merge(player_value, how = \"left\", on = ['Match_ID', 'Player', 'Team'])\n",
    "player_value.tail()"
   ]
  },
  {
   "cell_type": "code",
   "execution_count": null,
   "metadata": {},
   "outputs": [],
   "source": [
    "player_stats.head()"
   ]
  },
  {
   "cell_type": "code",
   "execution_count": null,
   "metadata": {},
   "outputs": [],
   "source": [
    "chains['Receiver'] = chains['Player'].shift(-1)\n",
    "chains[['Player', 'Receiver', 'Description']].head(5)"
   ]
  },
  {
   "cell_type": "code",
   "execution_count": null,
   "metadata": {},
   "outputs": [],
   "source": [
    "def get_receiver_totals_by_match(chains):\n",
    "    return chains.groupby(['Match_ID', 'Receiver'])[['Disposal_Label', 'xDisposal']].sum().reset_index().sort_values(by=['Match_ID', \"Receiver\"])\n",
    "\n",
    "receiver_value = get_receiver_totals_by_match(chains)\n",
    "receiver_value.tail()"
   ]
  },
  {
   "cell_type": "code",
   "execution_count": null,
   "metadata": {},
   "outputs": [],
   "source": [
    "receiver_value = receiver_value.rename(columns = {\n",
    "    \"Receiver\":\"Player\",\n",
    "    \"Disposal_Label\":\"Disposal_received\",\n",
    "    \"xDisposal\":\"xDisposal_received\"})\n",
    "\n",
    "player_stats = player_stats.merge(receiver_value[['Match_ID', 'Player','Disposal_received', 'xDisposal_received']], how = \"left\", on = ['Match_ID', 'Player'])"
   ]
  },
  {
   "cell_type": "code",
   "execution_count": null,
   "metadata": {},
   "outputs": [],
   "source": [
    "player_stats[['Effective_Disposals', 'Disposals', 'xDisposal', \"Disposal_Label\"]].sum()"
   ]
  },
  {
   "cell_type": "code",
   "execution_count": null,
   "metadata": {},
   "outputs": [],
   "source": [
    "player_stats.tail()"
   ]
  },
  {
   "cell_type": "code",
   "execution_count": null,
   "metadata": {},
   "outputs": [],
   "source": [
    "player_stats.to_csv(\"/Users/ciaran/Documents/Projects/AFL/git-repositories/expected-disposal-model/data/predictions/disposal_scored_player_stats.csv\"\n",
    "                    , index=False)"
   ]
  },
  {
   "cell_type": "code",
   "execution_count": null,
   "metadata": {},
   "outputs": [],
   "source": [
    "predict_player_stats(scored_chains = \"/Users/ciaran/Documents/Projects/AFL/git-repositories/expected-vaep-model/data/scored/scored_match_chains_v4.csv\", \n",
    "                     player_stats_file_path = \"/Users/ciaran/Documents/Projects/AFL/data/player_stats.csv\", \n",
    "                     scored_player_stats_output_path = \"/Users/ciaran/Documents/Projects/AFL/git-repositories/expected-vaep-model/data/scored/scored_player_stats_v4.csv\")"
   ]
  },
  {
   "cell_type": "code",
   "execution_count": null,
   "metadata": {},
   "outputs": [],
   "source": [
    "scored_data = pd.read_csv(\"/Users/ciaran/Documents/Projects/AFL/git-repositories/expected-disposal-model/data/predictions/disposal_scored_player_stats.csv\")\n",
    "scored_data.head()"
   ]
  },
  {
   "cell_type": "code",
   "execution_count": null,
   "metadata": {},
   "outputs": [],
   "source": [
    "scored_data.tail()"
   ]
  },
  {
   "cell_type": "code",
   "execution_count": null,
   "metadata": {},
   "outputs": [],
   "source": []
  }
 ],
 "metadata": {
  "kernelspec": {
   "display_name": "afl-total-model-env",
   "language": "python",
   "name": "python3"
  },
  "language_info": {
   "codemirror_mode": {
    "name": "ipython",
    "version": 3
   },
   "file_extension": ".py",
   "mimetype": "text/x-python",
   "name": "python",
   "nbconvert_exporter": "python",
   "pygments_lexer": "ipython3",
   "version": "3.11.5"
  },
  "orig_nbformat": 4,
  "vscode": {
   "interpreter": {
    "hash": "dc578ee0f2f240f88b07d66010ce4f17cba19ae2fcd1972906e53630b629e476"
   }
  }
 },
 "nbformat": 4,
 "nbformat_minor": 2
}
