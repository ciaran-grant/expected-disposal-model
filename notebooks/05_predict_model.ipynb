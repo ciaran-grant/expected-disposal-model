{
 "cells": [
  {
   "cell_type": "code",
   "execution_count": null,
   "metadata": {},
   "outputs": [],
   "source": [
    "import pandas as pd\n",
    "import joblib\n",
    "\n",
    "pd.options.display.max_rows = 100\n",
    "pd.options.display.max_columns = 999\n",
    "\n",
    "from expected_disposal_model.data_preparation.preprocessing import convert_chains_to_schema, filter_disposals, create_labels\n",
    "from expected_disposal_model.config import raw_file_path, preprocessor_file_path, model_v1_file_path, scored_disposal_output"
   ]
  },
  {
   "cell_type": "code",
   "execution_count": null,
   "metadata": {},
   "outputs": [],
   "source": [
    "# Load data\n",
    "chains = pd.read_csv(raw_file_path)\n",
    "print(\"Chain data loaded.\")"
   ]
  },
  {
   "cell_type": "code",
   "execution_count": null,
   "metadata": {},
   "outputs": [],
   "source": [
    "# Processing\n",
    "preproc = joblib.load(preprocessor_file_path)\n",
    "chain_features = preproc.transform(chains)"
   ]
  },
  {
   "cell_type": "code",
   "execution_count": null,
   "metadata": {},
   "outputs": [],
   "source": [
    "schema_chains = convert_chains_to_schema(chains)\n",
    "disposals = filter_disposals(schema_chains)\n",
    "\n",
    "labels = create_labels(chains)\n",
    "\n",
    "schema_chains = pd.concat([disposals, chain_features, labels], axis=1)\n",
    "schema_chains = schema_chains.rename(columns={'Disposal':'Disposal_Label'})\n",
    "print(\"Preprocessing.. Complete.\")"
   ]
  },
  {
   "cell_type": "code",
   "execution_count": null,
   "metadata": {},
   "outputs": [],
   "source": [
    "# Load model\n",
    "exp_disposal_model = joblib.load(model_v1_file_path)\n",
    "\n",
    "# Scoring Model\n",
    "schema_chains['xDisposal'] = exp_disposal_model.predict_proba(chain_features)[:, 1]\n",
    "print(\"Scoring.. complete.\")"
   ]
  },
  {
   "cell_type": "code",
   "execution_count": null,
   "metadata": {},
   "outputs": [],
   "source": [
    "schema_chains.head()"
   ]
  },
  {
   "cell_type": "code",
   "execution_count": null,
   "metadata": {},
   "outputs": [],
   "source": [
    "# Merge back to chains\n",
    "chains = chains.merge(schema_chains, how = \"left\", left_on=['Match_ID', 'Chain_Number', 'Order'], right_on=['match_id', 'chain_number', 'order'])\n"
   ]
  },
  {
   "cell_type": "code",
   "execution_count": null,
   "metadata": {},
   "outputs": [],
   "source": [
    "chains.head() "
   ]
  },
  {
   "cell_type": "code",
   "execution_count": null,
   "metadata": {},
   "outputs": [],
   "source": [
    "# Export data\n",
    "chains.to_csv(\"/Users/ciaran/Documents/Projects/AFL/git-repositories/expected-disposal-model/data/predictions/disposal_scored_chains.csv\", index=False)\n",
    "print(\"Exporting.. complete.\")"
   ]
  },
  {
   "cell_type": "code",
   "execution_count": null,
   "metadata": {},
   "outputs": [],
   "source": []
  }
 ],
 "metadata": {
  "kernelspec": {
   "display_name": "expected-disposal-env",
   "language": "python",
   "name": "python3"
  },
  "language_info": {
   "codemirror_mode": {
    "name": "ipython",
    "version": 3
   },
   "file_extension": ".py",
   "mimetype": "text/x-python",
   "name": "python",
   "nbconvert_exporter": "python",
   "pygments_lexer": "ipython3",
   "version": "3.11.5"
  },
  "orig_nbformat": 4
 },
 "nbformat": 4,
 "nbformat_minor": 2
}
